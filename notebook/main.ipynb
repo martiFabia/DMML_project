{
 "cells": [
  {
   "cell_type": "code",
   "execution_count": 1,
   "id": "e1831c2e",
   "metadata": {},
   "outputs": [],
   "source": [
    "import pandas as pd\n",
    "import matplotlib.pyplot as plt\n",
    "import seaborn as sns\n",
    "import numpy as np\n",
    "\n",
    "\n",
    "from sklearn.preprocessing import LabelEncoder\n"
   ]
  },
  {
   "cell_type": "code",
   "execution_count": 2,
   "id": "4c9c63ff",
   "metadata": {},
   "outputs": [],
   "source": [
    "df = pd.read_csv('../data/data_cleaned.csv', sep=',')"
   ]
  },
  {
   "cell_type": "code",
   "execution_count": 3,
   "id": "a96c5fa8",
   "metadata": {},
   "outputs": [],
   "source": [
    "# encode target variable: 0: dropout, 1: enrolled, 2: graduated\n",
    "le = LabelEncoder()\n",
    "df['Target_encoded'] = le.fit_transform(df['Target'])\n",
    "\n",
    "# Drop 'Target' variable\n",
    "df.drop('Target', axis = 1, inplace = True)"
   ]
  },
  {
   "cell_type": "code",
   "execution_count": 4,
   "id": "338df75b",
   "metadata": {},
   "outputs": [],
   "source": [
    "# Change data types of columns that should be categorical\n",
    "col = ['Marital_status', 'Application_mode', 'Course', 'Previous_qualification',\n",
    "       'Mother_qualification', 'Father_qualification', 'Mother_occupation',\n",
    "       'Father_occupation','Target_encoded']\n",
    "\n",
    "df[col] = df[col].astype('category')"
   ]
  },
  {
   "cell_type": "code",
   "execution_count": 43,
   "id": "ca7cf4aa",
   "metadata": {},
   "outputs": [
    {
     "name": "stdout",
     "output_type": "stream",
     "text": [
      "<class 'pandas.core.frame.DataFrame'>\n",
      "RangeIndex: 4424 entries, 0 to 4423\n",
      "Data columns (total 37 columns):\n",
      " #   Column                                        Non-Null Count  Dtype   \n",
      "---  ------                                        --------------  -----   \n",
      " 0   Marital_status                                4424 non-null   category\n",
      " 1   Application_mode                              4424 non-null   category\n",
      " 2   Application_order                             4424 non-null   int64   \n",
      " 3   Course                                        4424 non-null   category\n",
      " 4   Daytime/evening_attendance                    4424 non-null   int64   \n",
      " 5   Previous_qualification                        4424 non-null   category\n",
      " 6   Previous_qualification_grade                  4424 non-null   float64 \n",
      " 7   Nationality                                   4424 non-null   int64   \n",
      " 8   Mother_qualification                          4424 non-null   category\n",
      " 9   Father_qualification                          4424 non-null   category\n",
      " 10  Mother_occupation                             4424 non-null   category\n",
      " 11  Father_occupation                             4424 non-null   category\n",
      " 12  Admission_grade                               4424 non-null   float64 \n",
      " 13  Displaced                                     4424 non-null   int64   \n",
      " 14  Educational_special_needs                     4424 non-null   int64   \n",
      " 15  Debtor                                        4424 non-null   int64   \n",
      " 16  Tuition_fees_up_to_date                       4424 non-null   int64   \n",
      " 17  Gender                                        4424 non-null   int64   \n",
      " 18  Scholarship_holder                            4424 non-null   int64   \n",
      " 19  Age                                           4424 non-null   int64   \n",
      " 20  International                                 4424 non-null   int64   \n",
      " 21  Curricular_units_1st_sem_credited             4424 non-null   int64   \n",
      " 22  Curricular_units_1st_sem_enrolled             4424 non-null   int64   \n",
      " 23  Curricular_units_1st_sem_evaluations          4424 non-null   int64   \n",
      " 24  Curricular_units_1st_sem_approved             4424 non-null   int64   \n",
      " 25  Curricular_units_1st_sem_grade                4424 non-null   float64 \n",
      " 26  Curricular_units_1st_sem_without_evaluations  4424 non-null   int64   \n",
      " 27  Curricular_units_2nd_sem_credited             4424 non-null   int64   \n",
      " 28  Curricular_units_2nd_sem_enrolled             4424 non-null   int64   \n",
      " 29  Curricular_units_2nd_sem_evaluations          4424 non-null   int64   \n",
      " 30  Curricular_units_2nd_sem_approved             4424 non-null   int64   \n",
      " 31  Curricular_units_2nd_sem_grade                4424 non-null   float64 \n",
      " 32  Curricular_units_2nd_sem_without_evaluations  4424 non-null   int64   \n",
      " 33  Unemployment_rate                             4424 non-null   float64 \n",
      " 34  Inflation_rate                                4424 non-null   float64 \n",
      " 35  GDP                                           4424 non-null   float64 \n",
      " 36  Target_encoded                                4424 non-null   category\n",
      "dtypes: category(9), float64(7), int64(21)\n",
      "memory usage: 1014.4 KB\n"
     ]
    }
   ],
   "source": [
    "df.head()\n",
    "df.info()"
   ]
  },
  {
   "cell_type": "markdown",
   "id": "e523c31b",
   "metadata": {},
   "source": [
    "# Drop Values"
   ]
  },
  {
   "cell_type": "code",
   "execution_count": 44,
   "id": "720dfe3f",
   "metadata": {},
   "outputs": [
    {
     "name": "stdout",
     "output_type": "stream",
     "text": [
      "['Marital_status', 'Application_mode', 'Course', 'Previous_qualification', 'Mother_qualification', 'Father_qualification', 'Mother_occupation', 'Father_occupation', 'Target_encoded']\n"
     ]
    }
   ],
   "source": [
    "cats = df.select_dtypes(include=['category']).columns.tolist()\n",
    "print(cats)"
   ]
  },
  {
   "cell_type": "code",
   "execution_count": 5,
   "id": "8e406eb0",
   "metadata": {},
   "outputs": [],
   "source": [
    "stud_selected = df.drop(['Nationality', 'International', 'Educational_special_needs'], axis = 1)  "
   ]
  },
  {
   "cell_type": "code",
   "execution_count": 31,
   "id": "a5527cd5",
   "metadata": {},
   "outputs": [
    {
     "name": "stdout",
     "output_type": "stream",
     "text": [
      "<class 'pandas.core.frame.DataFrame'>\n",
      "RangeIndex: 4424 entries, 0 to 4423\n",
      "Data columns (total 34 columns):\n",
      " #   Column                                        Non-Null Count  Dtype   \n",
      "---  ------                                        --------------  -----   \n",
      " 0   Marital_status                                4424 non-null   category\n",
      " 1   Application_mode                              4424 non-null   category\n",
      " 2   Application_order                             4424 non-null   int64   \n",
      " 3   Course                                        4424 non-null   category\n",
      " 4   Daytime/evening_attendance                    4424 non-null   int64   \n",
      " 5   Previous_qualification                        4424 non-null   category\n",
      " 6   Previous_qualification_grade                  4424 non-null   float64 \n",
      " 7   Mother_qualification                          4424 non-null   category\n",
      " 8   Father_qualification                          4424 non-null   category\n",
      " 9   Mother_occupation                             4424 non-null   category\n",
      " 10  Father_occupation                             4424 non-null   category\n",
      " 11  Admission_grade                               4424 non-null   float64 \n",
      " 12  Displaced                                     4424 non-null   int64   \n",
      " 13  Debtor                                        4424 non-null   int64   \n",
      " 14  Tuition_fees_up_to_date                       4424 non-null   int64   \n",
      " 15  Gender                                        4424 non-null   int64   \n",
      " 16  Scholarship_holder                            4424 non-null   int64   \n",
      " 17  Age                                           4424 non-null   int64   \n",
      " 18  Curricular_units_1st_sem_credited             4424 non-null   int64   \n",
      " 19  Curricular_units_1st_sem_enrolled             4424 non-null   int64   \n",
      " 20  Curricular_units_1st_sem_evaluations          4424 non-null   int64   \n",
      " 21  Curricular_units_1st_sem_approved             4424 non-null   int64   \n",
      " 22  Curricular_units_1st_sem_grade                4424 non-null   float64 \n",
      " 23  Curricular_units_1st_sem_without_evaluations  4424 non-null   int64   \n",
      " 24  Curricular_units_2nd_sem_credited             4424 non-null   int64   \n",
      " 25  Curricular_units_2nd_sem_enrolled             4424 non-null   int64   \n",
      " 26  Curricular_units_2nd_sem_evaluations          4424 non-null   int64   \n",
      " 27  Curricular_units_2nd_sem_approved             4424 non-null   int64   \n",
      " 28  Curricular_units_2nd_sem_grade                4424 non-null   float64 \n",
      " 29  Curricular_units_2nd_sem_without_evaluations  4424 non-null   int64   \n",
      " 30  Unemployment_rate                             4424 non-null   float64 \n",
      " 31  Inflation_rate                                4424 non-null   float64 \n",
      " 32  GDP                                           4424 non-null   float64 \n",
      " 33  Target_encoded                                4424 non-null   category\n",
      "dtypes: category(9), float64(7), int64(18)\n",
      "memory usage: 910.7 KB\n"
     ]
    }
   ],
   "source": [
    "stud_selected.info()"
   ]
  },
  {
   "cell_type": "markdown",
   "id": "d317f463",
   "metadata": {},
   "source": [
    "\n",
    "| **Prestazione media**    Compatta le due note in un’unica metrica di qualità.     \n",
    "                                                          \n",
    "| **Efficienza**          Normalizzi per il numero di unità: evita che chi segue più corsi sembri “peggiore” solo perché ha più valutazioni. \n",
    "\n",
    "| **Trend / miglioramento** Cattura se lo studente recupera o peggiora; spesso è più predittivo del valore assoluto.    \n",
    "                       \n",
    "| **Carico di lavoro**  Indicatori di impegno complessivo, utili per dropout-risk.                                                         \n",
    "\n",
    "| **Flag di rischio precoce**    Variabile binaria che riassume il primo semestre.                                                                  \n"
   ]
  },
  {
   "cell_type": "markdown",
   "id": "a0ccf0f3",
   "metadata": {},
   "source": [
    "quando due set di variabili sono altamente correlati perché misurano lo stesso concetto a momenti diversi, trasforma le seconde in segnali di progresso (differenze, rapporti, medie); spesso è l’andamento, non il valore assoluto, a distinguere chi si laurea da chi abbandona."
   ]
  },
  {
   "cell_type": "markdown",
   "id": "6579d92e",
   "metadata": {},
   "source": [
    "0 → 1: quanto lo studente si presenta davvero agli esami.\n",
    "\n",
    "Delta > 0: migliora l’impegno; <br>\n",
    "Delta < 0: cala (segnale di rischio)."
   ]
  },
  {
   "cell_type": "markdown",
   "id": "e22d6634",
   "metadata": {},
   "source": [
    "## features imbalanced"
   ]
  },
  {
   "cell_type": "code",
   "execution_count": 62,
   "id": "c80313e3",
   "metadata": {},
   "outputs": [
    {
     "name": "stdout",
     "output_type": "stream",
     "text": [
      "                        dominant_share  rare_share  n_categories\n",
      "feature                                                         \n",
      "Marital_status                0.885850    0.007911             6\n",
      "Previous_qualification        0.840190    0.035036            17\n",
      "Target_encoded                0.499322    0.000000             3\n",
      "Application_mode              0.386076    0.030515            18\n",
      "Mother_occupation             0.356465    0.034358            32\n",
      "Father_qualification          0.273282    0.040461            34\n",
      "Mother_qualification          0.241637    0.029611            29\n",
      "Father_occupation             0.228300    0.025316            46\n",
      "Course                        0.173146    0.002712            17\n"
     ]
    }
   ],
   "source": [
    "def imbalance_report(df: pd.DataFrame, cat_columns, rare_thresh=0.01):\n",
    "    \"\"\"\n",
    "    Return a DataFrame with imbalance metrics for each categorical column.\n",
    "    - dominant_share: % of the most frequent category\n",
    "    - rare_share    : total % of categories below `rare_thresh`\n",
    "    - n_categories  : number of distinct categories\n",
    "    \"\"\"\n",
    "    rows = []\n",
    "    for col in cat_columns:\n",
    "        freqs = df[col].value_counts(normalize=True, dropna=False)\n",
    "        dominant_share = freqs.iloc[0]\n",
    "        rare_share = freqs[freqs < rare_thresh].sum()\n",
    "        rows.append({\n",
    "            \"feature\": col,\n",
    "            \"dominant_share\": dominant_share,\n",
    "            \"rare_share\": rare_share,\n",
    "            \"n_categories\": len(freqs)\n",
    "        })\n",
    "    return pd.DataFrame(rows).set_index(\"feature\")           \\\n",
    "                             .sort_values(\"dominant_share\", ascending=False)\n",
    "\n",
    "imbalance_df = imbalance_report(stud_selected, cat_cols, rare_thresh=0.01)\n",
    "print(imbalance_df.head(16))    # show the most skewed first\n"
   ]
  },
  {
   "cell_type": "markdown",
   "id": "c2b0dfa3",
   "metadata": {},
   "source": [
    "| `dominant_share ≥ 0.85` | Variabile dominata da un’unica modalità → alto rischio che le altre colonne “valgano zero”. \n",
    "\n",
    "| `rare_share ≥ 0.20`     | Molte modalità con frequenza < 1 % → sparsità elevata in one-hot, possibile over-fitting. \n",
    "  \n",
    "| `n_categories ≫ 50`     | Cardinalità alta, anche se distribuzione non estrema.                                       \n"
   ]
  },
  {
   "cell_type": "markdown",
   "id": "c014f0b6",
   "metadata": {},
   "source": [
    "**COLLAPSE RARE LEVELS**"
   ]
  },
  {
   "cell_type": "code",
   "execution_count": 11,
   "id": "d980e2b5",
   "metadata": {},
   "outputs": [
    {
     "name": "stdout",
     "output_type": "stream",
     "text": [
      "Categorical columns detected (9): ['Marital_status', 'Application_mode', 'Course', 'Previous_qualification', 'Mother_qualification', 'Father_qualification', 'Mother_occupation', 'Father_occupation', 'Target_encoded']\n",
      "Column 'Marital_status': collapsed 3 rare level(s) into 0\n",
      "Column 'Application_mode': collapsed 9 rare level(s) into 0\n",
      "Column 'Course': collapsed 1 rare level(s) into 0\n",
      "Column 'Previous_qualification': collapsed 12 rare level(s) into 0\n",
      "Column 'Mother_qualification': collapsed 21 rare level(s) into 0\n",
      "Column 'Father_qualification': collapsed 27 rare level(s) into 0\n",
      "Column 'Mother_occupation': collapsed 22 rare level(s) into 0\n",
      "Column 'Father_occupation': collapsed 34 rare level(s) into 0\n",
      "\n",
      " Marital_status\n",
      "1    0.885850\n",
      "2    0.085669\n",
      "4    0.020570\n",
      "0    0.007911\n",
      "Name: proportion, dtype: float64\n",
      "\n",
      " Application_mode\n",
      "1     0.386076\n",
      "17    0.197107\n",
      "39    0.177441\n",
      "43    0.070524\n",
      "44    0.048146\n",
      "Name: proportion, dtype: float64\n",
      "\n",
      " Course\n",
      "9500    0.173146\n",
      "9147    0.085895\n",
      "9238    0.080244\n",
      "9085    0.076175\n",
      "9773    0.074819\n",
      "Name: proportion, dtype: float64\n",
      "\n",
      " Previous_qualification\n",
      "1     0.840190\n",
      "39    0.049503\n",
      "19    0.036618\n",
      "0     0.035036\n",
      "3     0.028481\n",
      "Name: proportion, dtype: float64\n",
      "\n",
      " Mother_qualification\n",
      "1     0.241637\n",
      "37    0.228074\n",
      "19    0.215416\n",
      "38    0.127034\n",
      "3     0.099005\n",
      "Name: proportion, dtype: float64\n"
     ]
    }
   ],
   "source": [
    "THRESH = 0.01          # share below which a level is considered \"rare\" (1 %)\n",
    "\n",
    "cat_cols = []\n",
    "for col in stud_selected.columns:\n",
    "    if stud_selected[col].dtype.name in [\"category\"]:\n",
    "        cat_cols.append(col)\n",
    "\n",
    "print(f\"Categorical columns detected ({len(cat_cols)}): {cat_cols}\")\n",
    "\n",
    "# -------------------------------------------------------------------\n",
    "# 2) Collapse rare levels into the new code \"0\"\n",
    "# -------------------------------------------------------------------\n",
    "for col in cat_cols:\n",
    "    # Ensure the column is of pandas 'category' dtype\n",
    "    stud_selected[col] = stud_selected[col].astype(\"category\")\n",
    "\n",
    "    # Share of each level (NaNs kept separate)\n",
    "    freqs = stud_selected[col].value_counts(normalize=True, dropna=False)\n",
    "    rare_levels = freqs[freqs < THRESH].index\n",
    "\n",
    "    # Skip columns with no rare levels\n",
    "    if rare_levels.empty:\n",
    "        continue\n",
    "\n",
    "    # Add the new category code (0) if it doesn't exist yet\n",
    "    if 0 not in stud_selected[col].cat.categories:\n",
    "        stud_selected[col] = stud_selected[col].cat.add_categories([0])\n",
    "\n",
    "    # Replace every rare level with 0\n",
    "    stud_selected[col] = stud_selected[col].where(~stud_selected[col].isin(rare_levels), 0)\n",
    "\n",
    "    # Optional: drop categories that disappeared after the replacement\n",
    "    stud_selected[col] = stud_selected[col].cat.remove_unused_categories()\n",
    "\n",
    "    print(f\"Column '{col}': collapsed {len(rare_levels)} rare level(s) into 0\")\n",
    "\n",
    "# -------------------------------------------------------------------\n",
    "# 3) (Optional) quick sanity-check\n",
    "# -------------------------------------------------------------------\n",
    "for col in cat_cols[:5]:   # inspect first 5 categorical columns\n",
    "    print(\"\\n\", stud_selected[col].value_counts(normalize=True).head())\n"
   ]
  },
  {
   "cell_type": "code",
   "execution_count": 12,
   "id": "2ded7c7e",
   "metadata": {},
   "outputs": [
    {
     "name": "stdout",
     "output_type": "stream",
     "text": [
      "Marital_status: 4 unique values\n",
      "Application_mode: 10 unique values\n",
      "Course: 17 unique values\n",
      "Previous_qualification: 6 unique values\n",
      "Mother_qualification: 9 unique values\n",
      "Father_qualification: 8 unique values\n",
      "Mother_occupation: 10 unique values\n",
      "Father_occupation: 12 unique values\n",
      "Target_encoded: 3 unique values\n"
     ]
    }
   ],
   "source": [
    "cat_columns = stud_selected.select_dtypes(include='category')\n",
    "\n",
    "# Check the number of unique values in each categorical column\n",
    "for col in cat_columns.columns:\n",
    "    n_val = stud_selected[col].nunique()\n",
    "    print(f\"{col}: {n_val} unique values\")"
   ]
  },
  {
   "cell_type": "markdown",
   "id": "0db49ccb",
   "metadata": {},
   "source": [
    "# Model Evaluation"
   ]
  },
  {
   "cell_type": "code",
   "execution_count": 13,
   "id": "cff2e9e1",
   "metadata": {},
   "outputs": [
    {
     "name": "stdout",
     "output_type": "stream",
     "text": [
      "Fold 1: type(X_train) = <class 'pandas.core.frame.DataFrame'>\n"
     ]
    },
    {
     "name": "stderr",
     "output_type": "stream",
     "text": [
      "c:\\Users\\Martina\\anaconda3\\envs\\DMML\\Lib\\site-packages\\sklearn\\base.py:474: FutureWarning: `BaseEstimator._validate_data` is deprecated in 1.6 and will be removed in 1.7. Use `sklearn.utils.validation.validate_data` instead. This function becomes public and is part of the scikit-learn developer API.\n",
      "  warnings.warn(\n",
      "c:\\Users\\Martina\\anaconda3\\envs\\DMML\\Lib\\site-packages\\joblib\\externals\\loky\\backend\\context.py:136: UserWarning: Could not find the number of physical cores for the following reason:\n",
      "found 0 physical cores < 1\n",
      "Returning the number of logical cores instead. You can silence this warning by setting LOKY_MAX_CPU_COUNT to the number of cores you want to use.\n",
      "  warnings.warn(\n",
      "  File \"c:\\Users\\Martina\\anaconda3\\envs\\DMML\\Lib\\site-packages\\joblib\\externals\\loky\\backend\\context.py\", line 282, in _count_physical_cores\n",
      "    raise ValueError(f\"found {cpu_count_physical} physical cores < 1\")\n"
     ]
    },
    {
     "name": "stdout",
     "output_type": "stream",
     "text": [
      "Fold 2: type(X_train) = <class 'pandas.core.frame.DataFrame'>\n"
     ]
    },
    {
     "name": "stderr",
     "output_type": "stream",
     "text": [
      "c:\\Users\\Martina\\anaconda3\\envs\\DMML\\Lib\\site-packages\\sklearn\\base.py:474: FutureWarning: `BaseEstimator._validate_data` is deprecated in 1.6 and will be removed in 1.7. Use `sklearn.utils.validation.validate_data` instead. This function becomes public and is part of the scikit-learn developer API.\n",
      "  warnings.warn(\n"
     ]
    },
    {
     "name": "stdout",
     "output_type": "stream",
     "text": [
      "Fold 3: type(X_train) = <class 'pandas.core.frame.DataFrame'>\n"
     ]
    },
    {
     "name": "stderr",
     "output_type": "stream",
     "text": [
      "c:\\Users\\Martina\\anaconda3\\envs\\DMML\\Lib\\site-packages\\sklearn\\base.py:474: FutureWarning: `BaseEstimator._validate_data` is deprecated in 1.6 and will be removed in 1.7. Use `sklearn.utils.validation.validate_data` instead. This function becomes public and is part of the scikit-learn developer API.\n",
      "  warnings.warn(\n"
     ]
    },
    {
     "name": "stdout",
     "output_type": "stream",
     "text": [
      "Fold 4: type(X_train) = <class 'pandas.core.frame.DataFrame'>\n"
     ]
    },
    {
     "name": "stderr",
     "output_type": "stream",
     "text": [
      "c:\\Users\\Martina\\anaconda3\\envs\\DMML\\Lib\\site-packages\\sklearn\\base.py:474: FutureWarning: `BaseEstimator._validate_data` is deprecated in 1.6 and will be removed in 1.7. Use `sklearn.utils.validation.validate_data` instead. This function becomes public and is part of the scikit-learn developer API.\n",
      "  warnings.warn(\n"
     ]
    },
    {
     "name": "stdout",
     "output_type": "stream",
     "text": [
      "Fold 5: type(X_train) = <class 'pandas.core.frame.DataFrame'>\n"
     ]
    },
    {
     "name": "stderr",
     "output_type": "stream",
     "text": [
      "c:\\Users\\Martina\\anaconda3\\envs\\DMML\\Lib\\site-packages\\sklearn\\base.py:474: FutureWarning: `BaseEstimator._validate_data` is deprecated in 1.6 and will be removed in 1.7. Use `sklearn.utils.validation.validate_data` instead. This function becomes public and is part of the scikit-learn developer API.\n",
      "  warnings.warn(\n"
     ]
    },
    {
     "name": "stdout",
     "output_type": "stream",
     "text": [
      "Fold 1: type(X_train) = <class 'pandas.core.frame.DataFrame'>\n"
     ]
    },
    {
     "name": "stderr",
     "output_type": "stream",
     "text": [
      "c:\\Users\\Martina\\anaconda3\\envs\\DMML\\Lib\\site-packages\\sklearn\\base.py:474: FutureWarning: `BaseEstimator._validate_data` is deprecated in 1.6 and will be removed in 1.7. Use `sklearn.utils.validation.validate_data` instead. This function becomes public and is part of the scikit-learn developer API.\n",
      "  warnings.warn(\n",
      "c:\\Users\\Martina\\anaconda3\\envs\\DMML\\Lib\\site-packages\\sklearn\\linear_model\\_logistic.py:465: ConvergenceWarning: lbfgs failed to converge (status=1):\n",
      "STOP: TOTAL NO. of ITERATIONS REACHED LIMIT.\n",
      "\n",
      "Increase the number of iterations (max_iter) or scale the data as shown in:\n",
      "    https://scikit-learn.org/stable/modules/preprocessing.html\n",
      "Please also refer to the documentation for alternative solver options:\n",
      "    https://scikit-learn.org/stable/modules/linear_model.html#logistic-regression\n",
      "  n_iter_i = _check_optimize_result(\n",
      "c:\\Users\\Martina\\anaconda3\\envs\\DMML\\Lib\\site-packages\\sklearn\\base.py:474: FutureWarning: `BaseEstimator._validate_data` is deprecated in 1.6 and will be removed in 1.7. Use `sklearn.utils.validation.validate_data` instead. This function becomes public and is part of the scikit-learn developer API.\n",
      "  warnings.warn(\n"
     ]
    },
    {
     "name": "stdout",
     "output_type": "stream",
     "text": [
      "Fold 2: type(X_train) = <class 'pandas.core.frame.DataFrame'>\n"
     ]
    },
    {
     "name": "stderr",
     "output_type": "stream",
     "text": [
      "c:\\Users\\Martina\\anaconda3\\envs\\DMML\\Lib\\site-packages\\sklearn\\linear_model\\_logistic.py:465: ConvergenceWarning: lbfgs failed to converge (status=1):\n",
      "STOP: TOTAL NO. of ITERATIONS REACHED LIMIT.\n",
      "\n",
      "Increase the number of iterations (max_iter) or scale the data as shown in:\n",
      "    https://scikit-learn.org/stable/modules/preprocessing.html\n",
      "Please also refer to the documentation for alternative solver options:\n",
      "    https://scikit-learn.org/stable/modules/linear_model.html#logistic-regression\n",
      "  n_iter_i = _check_optimize_result(\n",
      "c:\\Users\\Martina\\anaconda3\\envs\\DMML\\Lib\\site-packages\\sklearn\\base.py:474: FutureWarning: `BaseEstimator._validate_data` is deprecated in 1.6 and will be removed in 1.7. Use `sklearn.utils.validation.validate_data` instead. This function becomes public and is part of the scikit-learn developer API.\n",
      "  warnings.warn(\n"
     ]
    },
    {
     "name": "stdout",
     "output_type": "stream",
     "text": [
      "Fold 3: type(X_train) = <class 'pandas.core.frame.DataFrame'>\n"
     ]
    },
    {
     "name": "stderr",
     "output_type": "stream",
     "text": [
      "c:\\Users\\Martina\\anaconda3\\envs\\DMML\\Lib\\site-packages\\sklearn\\linear_model\\_logistic.py:465: ConvergenceWarning: lbfgs failed to converge (status=1):\n",
      "STOP: TOTAL NO. of ITERATIONS REACHED LIMIT.\n",
      "\n",
      "Increase the number of iterations (max_iter) or scale the data as shown in:\n",
      "    https://scikit-learn.org/stable/modules/preprocessing.html\n",
      "Please also refer to the documentation for alternative solver options:\n",
      "    https://scikit-learn.org/stable/modules/linear_model.html#logistic-regression\n",
      "  n_iter_i = _check_optimize_result(\n",
      "c:\\Users\\Martina\\anaconda3\\envs\\DMML\\Lib\\site-packages\\sklearn\\base.py:474: FutureWarning: `BaseEstimator._validate_data` is deprecated in 1.6 and will be removed in 1.7. Use `sklearn.utils.validation.validate_data` instead. This function becomes public and is part of the scikit-learn developer API.\n",
      "  warnings.warn(\n"
     ]
    },
    {
     "name": "stdout",
     "output_type": "stream",
     "text": [
      "Fold 4: type(X_train) = <class 'pandas.core.frame.DataFrame'>\n"
     ]
    },
    {
     "name": "stderr",
     "output_type": "stream",
     "text": [
      "c:\\Users\\Martina\\anaconda3\\envs\\DMML\\Lib\\site-packages\\sklearn\\linear_model\\_logistic.py:465: ConvergenceWarning: lbfgs failed to converge (status=1):\n",
      "STOP: TOTAL NO. of ITERATIONS REACHED LIMIT.\n",
      "\n",
      "Increase the number of iterations (max_iter) or scale the data as shown in:\n",
      "    https://scikit-learn.org/stable/modules/preprocessing.html\n",
      "Please also refer to the documentation for alternative solver options:\n",
      "    https://scikit-learn.org/stable/modules/linear_model.html#logistic-regression\n",
      "  n_iter_i = _check_optimize_result(\n",
      "c:\\Users\\Martina\\anaconda3\\envs\\DMML\\Lib\\site-packages\\sklearn\\base.py:474: FutureWarning: `BaseEstimator._validate_data` is deprecated in 1.6 and will be removed in 1.7. Use `sklearn.utils.validation.validate_data` instead. This function becomes public and is part of the scikit-learn developer API.\n",
      "  warnings.warn(\n"
     ]
    },
    {
     "name": "stdout",
     "output_type": "stream",
     "text": [
      "Fold 5: type(X_train) = <class 'pandas.core.frame.DataFrame'>\n"
     ]
    },
    {
     "name": "stderr",
     "output_type": "stream",
     "text": [
      "c:\\Users\\Martina\\anaconda3\\envs\\DMML\\Lib\\site-packages\\sklearn\\linear_model\\_logistic.py:465: ConvergenceWarning: lbfgs failed to converge (status=1):\n",
      "STOP: TOTAL NO. of ITERATIONS REACHED LIMIT.\n",
      "\n",
      "Increase the number of iterations (max_iter) or scale the data as shown in:\n",
      "    https://scikit-learn.org/stable/modules/preprocessing.html\n",
      "Please also refer to the documentation for alternative solver options:\n",
      "    https://scikit-learn.org/stable/modules/linear_model.html#logistic-regression\n",
      "  n_iter_i = _check_optimize_result(\n",
      "c:\\Users\\Martina\\anaconda3\\envs\\DMML\\Lib\\site-packages\\sklearn\\base.py:474: FutureWarning: `BaseEstimator._validate_data` is deprecated in 1.6 and will be removed in 1.7. Use `sklearn.utils.validation.validate_data` instead. This function becomes public and is part of the scikit-learn developer API.\n",
      "  warnings.warn(\n"
     ]
    },
    {
     "name": "stdout",
     "output_type": "stream",
     "text": [
      "Fold 1: type(X_train) = <class 'pandas.core.frame.DataFrame'>\n",
      "Fold 2: type(X_train) = <class 'pandas.core.frame.DataFrame'>\n"
     ]
    },
    {
     "name": "stderr",
     "output_type": "stream",
     "text": [
      "c:\\Users\\Martina\\anaconda3\\envs\\DMML\\Lib\\site-packages\\sklearn\\base.py:474: FutureWarning: `BaseEstimator._validate_data` is deprecated in 1.6 and will be removed in 1.7. Use `sklearn.utils.validation.validate_data` instead. This function becomes public and is part of the scikit-learn developer API.\n",
      "  warnings.warn(\n"
     ]
    },
    {
     "name": "stdout",
     "output_type": "stream",
     "text": [
      "Fold 3: type(X_train) = <class 'pandas.core.frame.DataFrame'>\n"
     ]
    },
    {
     "name": "stderr",
     "output_type": "stream",
     "text": [
      "c:\\Users\\Martina\\anaconda3\\envs\\DMML\\Lib\\site-packages\\sklearn\\base.py:474: FutureWarning: `BaseEstimator._validate_data` is deprecated in 1.6 and will be removed in 1.7. Use `sklearn.utils.validation.validate_data` instead. This function becomes public and is part of the scikit-learn developer API.\n",
      "  warnings.warn(\n"
     ]
    },
    {
     "name": "stdout",
     "output_type": "stream",
     "text": [
      "Fold 4: type(X_train) = <class 'pandas.core.frame.DataFrame'>\n"
     ]
    },
    {
     "name": "stderr",
     "output_type": "stream",
     "text": [
      "c:\\Users\\Martina\\anaconda3\\envs\\DMML\\Lib\\site-packages\\sklearn\\base.py:474: FutureWarning: `BaseEstimator._validate_data` is deprecated in 1.6 and will be removed in 1.7. Use `sklearn.utils.validation.validate_data` instead. This function becomes public and is part of the scikit-learn developer API.\n",
      "  warnings.warn(\n"
     ]
    },
    {
     "name": "stdout",
     "output_type": "stream",
     "text": [
      "Fold 5: type(X_train) = <class 'pandas.core.frame.DataFrame'>\n"
     ]
    },
    {
     "name": "stderr",
     "output_type": "stream",
     "text": [
      "c:\\Users\\Martina\\anaconda3\\envs\\DMML\\Lib\\site-packages\\sklearn\\base.py:474: FutureWarning: `BaseEstimator._validate_data` is deprecated in 1.6 and will be removed in 1.7. Use `sklearn.utils.validation.validate_data` instead. This function becomes public and is part of the scikit-learn developer API.\n",
      "  warnings.warn(\n"
     ]
    },
    {
     "data": {
      "text/html": [
       "<div>\n",
       "<style scoped>\n",
       "    .dataframe tbody tr th:only-of-type {\n",
       "        vertical-align: middle;\n",
       "    }\n",
       "\n",
       "    .dataframe tbody tr th {\n",
       "        vertical-align: top;\n",
       "    }\n",
       "\n",
       "    .dataframe thead th {\n",
       "        text-align: right;\n",
       "    }\n",
       "</style>\n",
       "<table border=\"1\" class=\"dataframe\">\n",
       "  <thead>\n",
       "    <tr style=\"text-align: right;\">\n",
       "      <th></th>\n",
       "      <th>Model</th>\n",
       "      <th>Accuracy</th>\n",
       "      <th>Precision_macro</th>\n",
       "      <th>Recall_macro</th>\n",
       "      <th>F1_macro</th>\n",
       "      <th>Precision_weight</th>\n",
       "      <th>Recall_weight</th>\n",
       "      <th>F1_weight</th>\n",
       "    </tr>\n",
       "  </thead>\n",
       "  <tbody>\n",
       "    <tr>\n",
       "      <th>0</th>\n",
       "      <td>Random Forest</td>\n",
       "      <td>0.770344</td>\n",
       "      <td>0.717031</td>\n",
       "      <td>0.702854</td>\n",
       "      <td>0.708665</td>\n",
       "      <td>0.763827</td>\n",
       "      <td>0.770344</td>\n",
       "      <td>0.765893</td>\n",
       "    </tr>\n",
       "    <tr>\n",
       "      <th>1</th>\n",
       "      <td>Logistic Regression</td>\n",
       "      <td>0.747061</td>\n",
       "      <td>0.707283</td>\n",
       "      <td>0.714047</td>\n",
       "      <td>0.706456</td>\n",
       "      <td>0.768936</td>\n",
       "      <td>0.747061</td>\n",
       "      <td>0.755251</td>\n",
       "    </tr>\n",
       "    <tr>\n",
       "      <th>2</th>\n",
       "      <td>Decision Tree</td>\n",
       "      <td>0.682414</td>\n",
       "      <td>0.619927</td>\n",
       "      <td>0.621444</td>\n",
       "      <td>0.620603</td>\n",
       "      <td>0.685871</td>\n",
       "      <td>0.682414</td>\n",
       "      <td>0.684076</td>\n",
       "    </tr>\n",
       "  </tbody>\n",
       "</table>\n",
       "</div>"
      ],
      "text/plain": [
       "                 Model  Accuracy  Precision_macro  Recall_macro  F1_macro  \\\n",
       "0        Random Forest  0.770344         0.717031      0.702854  0.708665   \n",
       "1  Logistic Regression  0.747061         0.707283      0.714047  0.706456   \n",
       "2        Decision Tree  0.682414         0.619927      0.621444  0.620603   \n",
       "\n",
       "   Precision_weight  Recall_weight  F1_weight  \n",
       "0          0.763827       0.770344   0.765893  \n",
       "1          0.768936       0.747061   0.755251  \n",
       "2          0.685871       0.682414   0.684076  "
      ]
     },
     "metadata": {},
     "output_type": "display_data"
    },
    {
     "data": {
      "image/png": "[encoded data removed]",
      "text/plain": [
       "<Figure size 1800x500 with 3 Axes>"
      ]
     },
     "metadata": {},
     "output_type": "display_data"
    }
   ],
   "source": [
    "from sklearn.ensemble import RandomForestClassifier\n",
    "# , AdaBoostClassifier, BaggingClassifier\n",
    "from sklearn.linear_model import LogisticRegression\n",
    "from sklearn.tree import DecisionTreeClassifier\n",
    "# from sklearn.neighbors import KNeighborsClassifier\n",
    "# from sklearn.naive_bayes import GaussianNB\n",
    "from sklearn.metrics import accuracy_score, precision_score, recall_score, f1_score, confusion_matrix, roc_auc_score, roc_curve, auc\n",
    "from sklearn.model_selection import StratifiedKFold\n",
    "from scipy.stats import wilcoxon\n",
    "#from xgboost import XGBClassifier\n",
    "from imblearn.over_sampling import SMOTE\n",
    "from imblearn.pipeline import Pipeline\n",
    "import seaborn as sns\n",
    "import matplotlib.pyplot as plt\n",
    "import numpy as np\n",
    "\n",
    "from FeaturesTrasformer import FeaturesTransformer\n",
    "from preprocessor import preprocessor\n",
    "\n",
    "\n",
    "X = stud_selected.drop(columns=['Target_encoded']) \n",
    "y = stud_selected['Target_encoded']  \n",
    "\n",
    "models = {\n",
    "    'Random Forest': RandomForestClassifier(random_state=42),\n",
    "    'Logistic Regression': LogisticRegression(),\n",
    "    # 'AdaBoost': AdaBoostClassifier(random_state=42),\n",
    "    'Decision Tree': DecisionTreeClassifier(random_state=42),\n",
    "    # 'K-Nearest Neighbors': KNeighborsClassifier(),\n",
    "    # 'Bagging': BaggingClassifier(random_state=42),\n",
    "    # 'Bayesian': GaussianNB(),\n",
    "    #'XGBoost': XGBClassifier(random_state=42)\n",
    "}\n",
    "\n",
    "# Define scoring metrics for cross_validate\n",
    "scoring = ['accuracy', 'precision', 'recall', 'f1', 'roc_auc' ]\n",
    "\n",
    "# Perform cross-validation\n",
    "skf = StratifiedKFold(n_splits=5, shuffle=True, random_state=42)\n",
    "\n",
    "# Initialize dictionaries to store results\n",
    "model_scores = {}      # To store per-fold scores for statistical tests\n",
    "roc_curves = {}        # To store ROC curve data for each model\n",
    "conf_matrices = {}     # To store confusion matrices for each model\n",
    "all_results  = []\n",
    "conf_matrices = {}\n",
    "roc_curves    = {}\n",
    "\n",
    "all_results = []\n",
    "\n",
    "# Esegui TimeSeriesSplit per ognuno dei modelli\n",
    "for model_name, model in models.items():\n",
    "    \n",
    "    pipeline = Pipeline(steps=[\n",
    "        ('feature_transformer', FeaturesTransformer(drop_originals=True)),\n",
    "        ('preprocessing', preprocessor),\n",
    "        ('smote', SMOTE(random_state=42)),\n",
    "        ('model', model)\n",
    "    ])\n",
    "\n",
    "    y_true = []\n",
    "    y_pred = []\n",
    "    y_prob = []\n",
    "\n",
    "\n",
    "\n",
    "    # Custom cross-validation loop\n",
    "    # Iterate over the 5 folds\n",
    "    for fold, (train_index, test_index) in enumerate(skf.split(X, y), 1):\n",
    "        # Select training and validation subsets using the indices\n",
    "        X_train = X.iloc[train_index]\n",
    "        X_test= X.iloc[test_index]\n",
    "        y_train = y.iloc[train_index]\n",
    "        y_test= y.iloc[test_index]\n",
    "         # --- debug ---\n",
    "        print(f\"Fold {fold}: type(X_train) =\", type(X_train))\n",
    "        # ------------- \n",
    "\n",
    "        # Fit the pipeline on the training fold\n",
    "        pipeline.fit(X_train, y_train)\n",
    "        \n",
    "        # Predict on test data\n",
    "        y_pred_fold = pipeline.predict(X_test)\n",
    "        y_prob_fold = pipeline.predict_proba(X_test)[:, 1]\n",
    "        \n",
    "        # Store results\n",
    "        y_true.extend(y_test)\n",
    "        y_pred.extend(y_pred_fold)\n",
    "        y_prob.extend(y_prob_fold)\n",
    "    \n",
    "    # Convert lists to NumPy arrays\n",
    "    y_true = np.array(y_true)\n",
    "    y_pred = np.array(y_pred)\n",
    "    y_prob = np.array(y_prob)\n",
    "\n",
    "      # -------- overall metrics (macro & weighted) ------------------\n",
    "    metrics = {\n",
    "        \"Model\"            : model_name,\n",
    "        \"Accuracy\"         : accuracy_score(y_true, y_pred),\n",
    "        \"Precision_macro\"  : precision_score(y_true, y_pred, average=\"macro\",  zero_division=0),\n",
    "        \"Recall_macro\"     : recall_score(y_true, y_pred,   average=\"macro\",  zero_division=0),\n",
    "        \"F1_macro\"         : f1_score(y_true, y_pred,       average=\"macro\",  zero_division=0),\n",
    "        \"Precision_weight\" : precision_score(y_true, y_pred, average=\"weighted\", zero_division=0),\n",
    "        \"Recall_weight\"    : recall_score(y_true, y_pred,    average=\"weighted\", zero_division=0),\n",
    "        \"F1_weight\"        : f1_score(y_true, y_pred,        average=\"weighted\", zero_division=0),\n",
    "        # \"ROC_AUC_macro\"    : roc_auc_score(y_true, y_prob, multi_class=\"ovr\", average=\"macro\"),\n",
    "        # \"ROC_AUC_weight\"   : roc_auc_score(y_true, y_prob, multi_class=\"ovr\", average=\"weighted\"),\n",
    "    }\n",
    "    all_results.append(metrics)\n",
    "\n",
    "    # -------- confusion matrix ------------------------------------\n",
    "    conf_matrices[model_name] = confusion_matrix(y_true, y_pred)\n",
    "\n",
    "    # -------- ROC curve (one-vs-rest for each class) --------------\n",
    "    # fpr = {}\n",
    "    # tpr = {}\n",
    "    # roc_auc = {}\n",
    "    # n_classes = y_prob.shape[1]\n",
    "    # for cls in range(n_classes):\n",
    "    #     fpr[cls], tpr[cls], _ = roc_curve(\n",
    "    #         (y_true == cls).astype(int), y_prob[:, cls]\n",
    "    #     )\n",
    "    #     roc_auc[cls] = roc_auc_score(\n",
    "    #         (y_true == cls).astype(int), y_prob[:, cls]\n",
    "    #     )\n",
    "    # roc_curves[model_name] = (fpr, tpr, roc_auc)\n",
    "\n",
    "# ------------------------------------------------------------------\n",
    "#  ❱ 2) Tabular results\n",
    "# ------------------------------------------------------------------\n",
    "results_df = pd.DataFrame(all_results)\n",
    "display(results_df)                # Jupyter / IPython\n",
    "# or:print(results_df.to_string(index=False))\n",
    "\n",
    "# ------------------------------------------------------------------\n",
    "#  ❱ 3) Plot ROC curves (one figure per model, all classes inside)\n",
    "# ------------------------------------------------------------------\n",
    "import matplotlib.cm as cm\n",
    "\n",
    "for model_name, (fpr_dict, tpr_dict, roc_auc_dict) in roc_curves.items():\n",
    "    plt.figure(figsize=(7, 6))\n",
    "    colors = cm.Set1(np.linspace(0, 1, len(fpr_dict)))\n",
    "    for cls, color in zip(fpr_dict.keys(), colors):\n",
    "        plt.plot(\n",
    "            fpr_dict[cls], tpr_dict[cls],\n",
    "            label=f\"Class {cls} (AUC = {roc_auc_dict[cls]:.2f})\",\n",
    "            color=color\n",
    "        )\n",
    "    plt.plot([0, 1], [0, 1], \"k--\", linewidth=0.8)\n",
    "    plt.title(f\"ROC curves – {model_name}\")\n",
    "    plt.xlabel(\"False Positive Rate\")\n",
    "    plt.ylabel(\"True Positive Rate\")\n",
    "    plt.legend(loc=\"lower right\")\n",
    "    plt.grid(alpha=0.2)\n",
    "    plt.tight_layout()\n",
    "    plt.show()\n",
    "\n",
    "# ------------------------------------------------------------------\n",
    "#  ❱ 4) Plot all confusion matrices in a grid\n",
    "# ------------------------------------------------------------------\n",
    "num_models = len(conf_matrices)\n",
    "cols = 3\n",
    "rows = int(np.ceil(num_models / cols))\n",
    "\n",
    "fig, axes = plt.subplots(rows, cols, figsize=(6*cols, 5*rows))\n",
    "axes = np.atleast_2d(axes).flatten()\n",
    "\n",
    "for ax, (model_name, cmat) in zip(axes, conf_matrices.items()):\n",
    "    sns.heatmap(\n",
    "        cmat, annot=True, fmt=\"d\", cmap=\"Blues\", cbar=False, ax=ax\n",
    "    )\n",
    "    ax.set_title(f\"Confusion Matrix – {model_name}\")\n",
    "    ax.set_xlabel(\"Predicted\")\n",
    "    ax.set_ylabel(\"Actual\")\n",
    "\n",
    "# remove empty subplots\n",
    "for ax in axes[len(conf_matrices):]:\n",
    "    ax.remove()\n",
    "\n",
    "plt.tight_layout()\n",
    "plt.show()"
   ]
  },
  {
   "cell_type": "code",
   "execution_count": 9,
   "id": "b66c80ee",
   "metadata": {},
   "outputs": [
    {
     "data": {
      "text/plain": [
       "{'Model': 'Random Forest',\n",
       " 'Accuracy': 0.7778028933092225,\n",
       " 'Precision_macro': 0.727202857670825,\n",
       " 'Recall_macro': 0.710737632801851,\n",
       " 'F1_macro': 0.7173884656263083,\n",
       " 'Precision_weight': 0.7708806766578998,\n",
       " 'Recall_weight': 0.7778028933092225,\n",
       " 'F1_weight': 0.7729258446384801}"
      ]
     },
     "execution_count": 9,
     "metadata": {},
     "output_type": "execute_result"
    }
   ],
   "source": [
    "metrics"
   ]
  },
  {
   "cell_type": "code",
   "execution_count": 7,
   "id": "50521de6",
   "metadata": {},
   "outputs": [
    {
     "name": "stdout",
     "output_type": "stream",
     "text": [
      "<class 'pandas.core.frame.DataFrame'>\n"
     ]
    }
   ],
   "source": [
    "out = pipeline.named_steps[\"feature_transformer\"].fit_transform(X_train)\n",
    "print(type(out))\n",
    "# >>> <class 'pandas.core.frame.DataFrame'>\n"
   ]
  }
 ],
 "metadata": {
  "kernelspec": {
   "display_name": "DMML",
   "language": "python",
   "name": "python3"
  },
  "language_info": {
   "codemirror_mode": {
    "name": "ipython",
    "version": 3
   },
   "file_extension": ".py",
   "mimetype": "text/x-python",
   "name": "python",
   "nbconvert_exporter": "python",
   "pygments_lexer": "ipython3",
   "version": "3.11.9"
  }
 },
 "nbformat": 4,
 "nbformat_minor": 5
}
