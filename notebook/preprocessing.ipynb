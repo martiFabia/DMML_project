{
 "cells": [
  {
   "cell_type": "code",
   "execution_count": 1,
   "id": "e1831c2e",
   "metadata": {},
   "outputs": [],
   "source": [
    "import pandas as pd\n",
    "import matplotlib.pyplot as plt\n",
    "import seaborn as sns\n",
    "import numpy as np\n",
    "from sklearn.preprocessing import OrdinalEncoder\n"
   ]
  },
  {
   "cell_type": "code",
   "execution_count": 40,
   "id": "4c9c63ff",
   "metadata": {},
   "outputs": [],
   "source": [
    "df = pd.read_csv('../data/data_cleaned.csv', sep=',')"
   ]
  },
  {
   "cell_type": "code",
   "execution_count": 41,
   "id": "a96c5fa8",
   "metadata": {},
   "outputs": [],
   "source": [
    "from sklearn.preprocessing import LabelEncoder\n",
    "\n",
    "le = LabelEncoder()\n",
    "df['Target_encoded'] = le.fit_transform(df['Target'])\n",
    "\n",
    "# Drop 'Target' variable\n",
    "df.drop('Target', axis = 1, inplace = True)"
   ]
  },
  {
   "cell_type": "code",
   "execution_count": 42,
   "id": "338df75b",
   "metadata": {},
   "outputs": [],
   "source": [
    "# Change data types of columns that should be categorical\n",
    "col = ['Marital_status', 'Application_mode', 'Course', 'Previous_qualification',\n",
    "       'Mother_qualification', 'Father_qualification', 'Mother_occupation',\n",
    "       'Father_occupation','Target_encoded']\n",
    "\n",
    "df[col] = df[col].astype('category')"
   ]
  },
  {
   "cell_type": "code",
   "execution_count": 43,
   "id": "ca7cf4aa",
   "metadata": {},
   "outputs": [
    {
     "name": "stdout",
     "output_type": "stream",
     "text": [
      "<class 'pandas.core.frame.DataFrame'>\n",
      "RangeIndex: 4424 entries, 0 to 4423\n",
      "Data columns (total 37 columns):\n",
      " #   Column                                        Non-Null Count  Dtype   \n",
      "---  ------                                        --------------  -----   \n",
      " 0   Marital_status                                4424 non-null   category\n",
      " 1   Application_mode                              4424 non-null   category\n",
      " 2   Application_order                             4424 non-null   int64   \n",
      " 3   Course                                        4424 non-null   category\n",
      " 4   Daytime/evening_attendance                    4424 non-null   int64   \n",
      " 5   Previous_qualification                        4424 non-null   category\n",
      " 6   Previous_qualification_grade                  4424 non-null   float64 \n",
      " 7   Nationality                                   4424 non-null   int64   \n",
      " 8   Mother_qualification                          4424 non-null   category\n",
      " 9   Father_qualification                          4424 non-null   category\n",
      " 10  Mother_occupation                             4424 non-null   category\n",
      " 11  Father_occupation                             4424 non-null   category\n",
      " 12  Admission_grade                               4424 non-null   float64 \n",
      " 13  Displaced                                     4424 non-null   int64   \n",
      " 14  Educational_special_needs                     4424 non-null   int64   \n",
      " 15  Debtor                                        4424 non-null   int64   \n",
      " 16  Tuition_fees_up_to_date                       4424 non-null   int64   \n",
      " 17  Gender                                        4424 non-null   int64   \n",
      " 18  Scholarship_holder                            4424 non-null   int64   \n",
      " 19  Age                                           4424 non-null   int64   \n",
      " 20  International                                 4424 non-null   int64   \n",
      " 21  Curricular_units_1st_sem_credited             4424 non-null   int64   \n",
      " 22  Curricular_units_1st_sem_enrolled             4424 non-null   int64   \n",
      " 23  Curricular_units_1st_sem_evaluations          4424 non-null   int64   \n",
      " 24  Curricular_units_1st_sem_approved             4424 non-null   int64   \n",
      " 25  Curricular_units_1st_sem_grade                4424 non-null   float64 \n",
      " 26  Curricular_units_1st_sem_without_evaluations  4424 non-null   int64   \n",
      " 27  Curricular_units_2nd_sem_credited             4424 non-null   int64   \n",
      " 28  Curricular_units_2nd_sem_enrolled             4424 non-null   int64   \n",
      " 29  Curricular_units_2nd_sem_evaluations          4424 non-null   int64   \n",
      " 30  Curricular_units_2nd_sem_approved             4424 non-null   int64   \n",
      " 31  Curricular_units_2nd_sem_grade                4424 non-null   float64 \n",
      " 32  Curricular_units_2nd_sem_without_evaluations  4424 non-null   int64   \n",
      " 33  Unemployment_rate                             4424 non-null   float64 \n",
      " 34  Inflation_rate                                4424 non-null   float64 \n",
      " 35  GDP                                           4424 non-null   float64 \n",
      " 36  Target_encoded                                4424 non-null   category\n",
      "dtypes: category(9), float64(7), int64(21)\n",
      "memory usage: 1014.4 KB\n"
     ]
    }
   ],
   "source": [
    "df.head()\n",
    "df.info()"
   ]
  },
  {
   "cell_type": "markdown",
   "id": "e523c31b",
   "metadata": {},
   "source": [
    "# Data Redundancy"
   ]
  },
  {
   "cell_type": "code",
   "execution_count": 44,
   "id": "720dfe3f",
   "metadata": {},
   "outputs": [
    {
     "name": "stdout",
     "output_type": "stream",
     "text": [
      "['Marital_status', 'Application_mode', 'Course', 'Previous_qualification', 'Mother_qualification', 'Father_qualification', 'Mother_occupation', 'Father_occupation', 'Target_encoded']\n"
     ]
    }
   ],
   "source": [
    "cats = df.select_dtypes(include=['category']).columns.tolist()\n",
    "print(cats)"
   ]
  },
  {
   "cell_type": "code",
   "execution_count": 45,
   "id": "8e406eb0",
   "metadata": {},
   "outputs": [],
   "source": [
    "stud_selected = df.drop(['Nationality', 'International', 'Educational_special_needs'], axis = 1)  "
   ]
  },
  {
   "cell_type": "code",
   "execution_count": 31,
   "id": "a5527cd5",
   "metadata": {},
   "outputs": [
    {
     "name": "stdout",
     "output_type": "stream",
     "text": [
      "<class 'pandas.core.frame.DataFrame'>\n",
      "RangeIndex: 4424 entries, 0 to 4423\n",
      "Data columns (total 34 columns):\n",
      " #   Column                                        Non-Null Count  Dtype   \n",
      "---  ------                                        --------------  -----   \n",
      " 0   Marital_status                                4424 non-null   category\n",
      " 1   Application_mode                              4424 non-null   category\n",
      " 2   Application_order                             4424 non-null   int64   \n",
      " 3   Course                                        4424 non-null   category\n",
      " 4   Daytime/evening_attendance                    4424 non-null   int64   \n",
      " 5   Previous_qualification                        4424 non-null   category\n",
      " 6   Previous_qualification_grade                  4424 non-null   float64 \n",
      " 7   Mother_qualification                          4424 non-null   category\n",
      " 8   Father_qualification                          4424 non-null   category\n",
      " 9   Mother_occupation                             4424 non-null   category\n",
      " 10  Father_occupation                             4424 non-null   category\n",
      " 11  Admission_grade                               4424 non-null   float64 \n",
      " 12  Displaced                                     4424 non-null   int64   \n",
      " 13  Debtor                                        4424 non-null   int64   \n",
      " 14  Tuition_fees_up_to_date                       4424 non-null   int64   \n",
      " 15  Gender                                        4424 non-null   int64   \n",
      " 16  Scholarship_holder                            4424 non-null   int64   \n",
      " 17  Age                                           4424 non-null   int64   \n",
      " 18  Curricular_units_1st_sem_credited             4424 non-null   int64   \n",
      " 19  Curricular_units_1st_sem_enrolled             4424 non-null   int64   \n",
      " 20  Curricular_units_1st_sem_evaluations          4424 non-null   int64   \n",
      " 21  Curricular_units_1st_sem_approved             4424 non-null   int64   \n",
      " 22  Curricular_units_1st_sem_grade                4424 non-null   float64 \n",
      " 23  Curricular_units_1st_sem_without_evaluations  4424 non-null   int64   \n",
      " 24  Curricular_units_2nd_sem_credited             4424 non-null   int64   \n",
      " 25  Curricular_units_2nd_sem_enrolled             4424 non-null   int64   \n",
      " 26  Curricular_units_2nd_sem_evaluations          4424 non-null   int64   \n",
      " 27  Curricular_units_2nd_sem_approved             4424 non-null   int64   \n",
      " 28  Curricular_units_2nd_sem_grade                4424 non-null   float64 \n",
      " 29  Curricular_units_2nd_sem_without_evaluations  4424 non-null   int64   \n",
      " 30  Unemployment_rate                             4424 non-null   float64 \n",
      " 31  Inflation_rate                                4424 non-null   float64 \n",
      " 32  GDP                                           4424 non-null   float64 \n",
      " 33  Target_encoded                                4424 non-null   category\n",
      "dtypes: category(9), float64(7), int64(18)\n",
      "memory usage: 910.7 KB\n"
     ]
    }
   ],
   "source": [
    "stud_selected.info()"
   ]
  },
  {
   "cell_type": "markdown",
   "id": "ffc62ebb",
   "metadata": {},
   "source": [
    "## Numerical features"
   ]
  },
  {
   "cell_type": "code",
   "execution_count": 9,
   "id": "284bc87f",
   "metadata": {},
   "outputs": [],
   "source": [
    "# Averaging academic performance data across two semesters\n",
    "# stud_selected['avg_credited'] = stud_selected[['Curricular_units_1st_sem_credited','Curricular_units_2nd_sem_credited']].mean(axis = 1)\n",
    "\n",
    "# stud_selected['avg_enrolled'] = stud_selected[['Curricular_units_1st_sem_enrolled','Curricular_units_2nd_sem_enrolled']].mean(axis = 1)\n",
    "\n",
    "# stud_selected['avg_evaluations'] = stud_selected[['Curricular_units_1st_sem_evaluations','Curricular_units_2nd_sem_evaluations']].mean(axis = 1)\n",
    "\n",
    "# stud_selected['avg_approved'] = stud_selected[['Curricular_units_1st_sem_approved','Curricular_units_2nd_sem_approved']].mean(axis = 1)\n",
    "\n",
    "# stud_selected['avg_grade'] = stud_selected[['Curricular_units_1st_sem_grade','Curricular_units_2nd_sem_grade']].mean(axis = 1)\n",
    "\n",
    "# stud_selected['avg_without_evaluations'] = stud_selected[['Curricular_units_1st_sem_without_evaluations','Curricular_units_2nd_sem_without_evaluations']].mean(axis = 1)\n",
    "\n",
    "# stud_selected['approval_rate'] = stud_selected['avg_approved'] / stud_selected['avg_evaluations'].replace(0, 1)\n"
   ]
  },
  {
   "cell_type": "markdown",
   "id": "d317f463",
   "metadata": {},
   "source": [
    "\n",
    "| **Prestazione media**    Compatta le due note in un’unica metrica di qualità.     \n",
    "                                                          \n",
    "| **Efficienza**          Normalizzi per il numero di unità: evita che chi segue più corsi sembri “peggiore” solo perché ha più valutazioni. \n",
    "\n",
    "| **Trend / miglioramento** Cattura se lo studente recupera o peggiora; spesso è più predittivo del valore assoluto.    \n",
    "                       \n",
    "| **Carico di lavoro**  Indicatori di impegno complessivo, utili per dropout-risk.                                                         \n",
    "\n",
    "| **Flag di rischio precoce**    Variabile binaria che riassume il primo semestre.                                                                  \n"
   ]
  },
  {
   "cell_type": "code",
   "execution_count": 46,
   "id": "9d88ffb4",
   "metadata": {},
   "outputs": [],
   "source": [
    "# Average performance\n",
    "stud_selected[\"avg_grade\"] = stud_selected[['Curricular_units_1st_sem_grade','Curricular_units_2nd_sem_grade']].mean(axis = 1)\n",
    "\n",
    "# Pass-rate per semester\n",
    "# avoid division by zero, keep np.nan only when the source is actually missing\n",
    "stud_selected[\"pass_rate_1st\"] = np.where(\n",
    "    stud_selected[\"Curricular_units_1st_sem_enrolled\"] > 0,\n",
    "    stud_selected[\"Curricular_units_1st_sem_approved\"] /\n",
    "    stud_selected[\"Curricular_units_1st_sem_enrolled\"],\n",
    "    0.0                           # oppure np.nan, decidi tu\n",
    ")\n",
    "\n",
    "stud_selected[\"pass_rate_2nd\"] = np.where(\n",
    "    stud_selected[\"Curricular_units_2nd_sem_enrolled\"] > 0,\n",
    "    stud_selected[\"Curricular_units_2nd_sem_approved\"] /\n",
    "    stud_selected[\"Curricular_units_2nd_sem_enrolled\"],\n",
    "    0.0\n",
    ")\n",
    "\n",
    "stud_selected[\"pass_rate_delta\"] = (\n",
    "    stud_selected[\"pass_rate_2nd\"] - stud_selected[\"pass_rate_1st\"]\n",
    ")\n",
    "\n",
    "\n",
    "# Deltas (trend)\n",
    "stud_selected[\"grade_delta\"] = stud_selected[\"Curricular_units_2nd_sem_grade\"] - stud_selected[\"Curricular_units_1st_sem_grade\"]\n",
    "stud_selected[\"approved_delta\"] = stud_selected[\"Curricular_units_2nd_sem_approved\"]   - stud_selected[\"Curricular_units_1st_sem_approved\"]\n",
    "\n",
    "# Workload aggregates\n",
    "stud_selected[\"total_enrolled\"] = stud_selected[\"Curricular_units_1st_sem_enrolled\"] + stud_selected[\"Curricular_units_2nd_sem_enrolled\"]\n",
    "stud_selected[\"total_credited\"] = stud_selected[\"Curricular_units_1st_sem_credited\"] + stud_selected[\"Curricular_units_2nd_sem_credited\"]\n",
    "\n",
    "# Early-warning flag\n",
    "#stud_selected[\"early_fail_flag\"] = (stud_selected[\"pass_rate_1st\"] < 0.50).astype(int)"
   ]
  },
  {
   "cell_type": "markdown",
   "id": "a0ccf0f3",
   "metadata": {},
   "source": [
    "quando due set di variabili sono altamente correlati perché misurano lo stesso concetto a momenti diversi, trasforma le seconde in segnali di progresso (differenze, rapporti, medie); spesso è l’andamento, non il valore assoluto, a distinguere chi si laurea da chi abbandona."
   ]
  },
  {
   "cell_type": "code",
   "execution_count": 47,
   "id": "bb574e74",
   "metadata": {},
   "outputs": [],
   "source": [
    "# To avoid division-by-zero we add .clip(lower=1)\n",
    "stud_selected[\"eval_completion_rate_1st\"] = (\n",
    "    stud_selected[\"Curricular_units_1st_sem_evaluations\"] /\n",
    "    (stud_selected[\"Curricular_units_1st_sem_evaluations\"] + \n",
    "     stud_selected[\"Curricular_units_1st_sem_without_evaluations\"]).clip(lower=1)\n",
    ")\n",
    "\n",
    "stud_selected[\"eval_completion_rate_2nd\"] = (\n",
    "    stud_selected[\"Curricular_units_2nd_sem_evaluations\"] /\n",
    "    (stud_selected[\"Curricular_units_2nd_sem_evaluations\"] + \n",
    "     stud_selected[\"Curricular_units_2nd_sem_without_evaluations\"]).clip(lower=1)\n",
    ")\n",
    "\n",
    "stud_selected[\"eval_completion_delta\"] = (\n",
    "    stud_selected[\"eval_completion_rate_2nd\"] - \n",
    "    stud_selected[\"eval_completion_rate_1st\"]\n",
    ")"
   ]
  },
  {
   "cell_type": "markdown",
   "id": "6579d92e",
   "metadata": {},
   "source": [
    "0 → 1: quanto lo studente si presenta davvero agli esami.\n",
    "\n",
    "Delta > 0: migliora l’impegno; <br>\n",
    "Delta < 0: cala (segnale di rischio)."
   ]
  },
  {
   "cell_type": "code",
   "execution_count": 48,
   "id": "5a29610e",
   "metadata": {},
   "outputs": [],
   "source": [
    "# Drop unselected features along with the features that have been aggregated into new ones \n",
    "stud_selected = stud_selected.drop(columns = ['Curricular_units_1st_sem_credited', \n",
    "                                              'Curricular_units_1st_sem_enrolled', \n",
    "                                              'Curricular_units_1st_sem_evaluations', \n",
    "                                              'Curricular_units_1st_sem_approved', \n",
    "                                              'Curricular_units_1st_sem_grade', \n",
    "                                              'Curricular_units_1st_sem_without_evaluations', \n",
    "                                              'Curricular_units_2nd_sem_credited', \n",
    "                                              'Curricular_units_2nd_sem_enrolled', \n",
    "                                              'Curricular_units_2nd_sem_evaluations', \n",
    "                                              'Curricular_units_2nd_sem_approved', \n",
    "                                              'Curricular_units_2nd_sem_grade', \n",
    "                                              'Curricular_units_2nd_sem_without_evaluations'])"
   ]
  },
  {
   "cell_type": "markdown",
   "id": "467e1162",
   "metadata": {},
   "source": [
    "## ENCODING"
   ]
  },
  {
   "cell_type": "code",
   "execution_count": 49,
   "id": "f6f34620",
   "metadata": {},
   "outputs": [
    {
     "name": "stdout",
     "output_type": "stream",
     "text": [
      "Categorical features: ['Marital_status', 'Application_mode', 'Course', 'Previous_qualification', 'Mother_qualification', 'Father_qualification', 'Mother_occupation', 'Father_occupation', 'Target_encoded']\n"
     ]
    }
   ],
   "source": [
    "# Identify categorical columns (object or category dtype)\n",
    "cat_cols = stud_selected.select_dtypes(include=[\"category\"]).columns.tolist()\n",
    "print(\"Categorical features:\", cat_cols)"
   ]
  },
  {
   "cell_type": "code",
   "execution_count": 50,
   "id": "c80313e3",
   "metadata": {},
   "outputs": [
    {
     "name": "stdout",
     "output_type": "stream",
     "text": [
      "                        dominant_share  rare_share  n_categories\n",
      "feature                                                         \n",
      "Marital_status                0.885850    0.007911             6\n",
      "Previous_qualification        0.840190    0.035036            17\n",
      "Target_encoded                0.499322    0.000000             3\n",
      "Application_mode              0.386076    0.030515            18\n",
      "Mother_occupation             0.356465    0.034358            32\n",
      "Father_qualification          0.273282    0.040461            34\n",
      "Mother_qualification          0.241637    0.029611            29\n",
      "Father_occupation             0.228300    0.025316            46\n",
      "Course                        0.173146    0.002712            17\n"
     ]
    }
   ],
   "source": [
    "def imbalance_report(df: pd.DataFrame, cat_columns, rare_thresh=0.01):\n",
    "    \"\"\"\n",
    "    Return a DataFrame with imbalance metrics for each categorical column.\n",
    "    - dominant_share: % of the most frequent category\n",
    "    - rare_share    : total % of categories below `rare_thresh`\n",
    "    - n_categories  : number of distinct categories\n",
    "    \"\"\"\n",
    "    rows = []\n",
    "    for col in cat_columns:\n",
    "        freqs = df[col].value_counts(normalize=True, dropna=False)\n",
    "        dominant_share = freqs.iloc[0]\n",
    "        rare_share = freqs[freqs < rare_thresh].sum()\n",
    "        rows.append({\n",
    "            \"feature\": col,\n",
    "            \"dominant_share\": dominant_share,\n",
    "            \"rare_share\": rare_share,\n",
    "            \"n_categories\": len(freqs)\n",
    "        })\n",
    "    return pd.DataFrame(rows).set_index(\"feature\")           \\\n",
    "                             .sort_values(\"dominant_share\", ascending=False)\n",
    "\n",
    "imbalance_df = imbalance_report(stud_selected, cat_cols, rare_thresh=0.01)\n",
    "print(imbalance_df.head(16))    # show the most skewed first\n"
   ]
  },
  {
   "cell_type": "markdown",
   "id": "c2b0dfa3",
   "metadata": {},
   "source": [
    "| `dominant_share ≥ 0.85` | Variabile dominata da un’unica modalità → alto rischio che le altre colonne “valgano zero”. \n",
    "\n",
    "| `rare_share ≥ 0.20`     | Molte modalità con frequenza < 1 % → sparsità elevata in one-hot, possibile over-fitting. \n",
    "  \n",
    "| `n_categories ≫ 50`     | Cardinalità alta, anche se distribuzione non estrema.                                       \n"
   ]
  },
  {
   "cell_type": "code",
   "execution_count": 36,
   "id": "ab74ee80",
   "metadata": {},
   "outputs": [
    {
     "name": "stdout",
     "output_type": "stream",
     "text": [
      "<class 'pandas.core.frame.DataFrame'>\n",
      "RangeIndex: 4424 entries, 0 to 4423\n",
      "Data columns (total 33 columns):\n",
      " #   Column                        Non-Null Count  Dtype   \n",
      "---  ------                        --------------  -----   \n",
      " 0   Marital_status                4424 non-null   category\n",
      " 1   Application_mode              4424 non-null   category\n",
      " 2   Application_order             4424 non-null   int64   \n",
      " 3   Course                        4424 non-null   category\n",
      " 4   Daytime/evening_attendance    4424 non-null   int64   \n",
      " 5   Previous_qualification        4424 non-null   category\n",
      " 6   Previous_qualification_grade  4424 non-null   float64 \n",
      " 7   Mother_qualification          4424 non-null   category\n",
      " 8   Father_qualification          4424 non-null   category\n",
      " 9   Mother_occupation             4424 non-null   category\n",
      " 10  Father_occupation             4424 non-null   category\n",
      " 11  Admission_grade               4424 non-null   float64 \n",
      " 12  Displaced                     4424 non-null   int64   \n",
      " 13  Debtor                        4424 non-null   int64   \n",
      " 14  Tuition_fees_up_to_date       4424 non-null   int64   \n",
      " 15  Gender                        4424 non-null   int64   \n",
      " 16  Scholarship_holder            4424 non-null   int64   \n",
      " 17  Age                           4424 non-null   int64   \n",
      " 18  Unemployment_rate             4424 non-null   float64 \n",
      " 19  Inflation_rate                4424 non-null   float64 \n",
      " 20  GDP                           4424 non-null   float64 \n",
      " 21  Target_encoded                4424 non-null   category\n",
      " 22  avg_grade                     4424 non-null   float64 \n",
      " 23  pass_rate_1st                 4424 non-null   float64 \n",
      " 24  pass_rate_2nd                 4424 non-null   float64 \n",
      " 25  pass_rate_delta               4424 non-null   float64 \n",
      " 26  grade_delta                   4424 non-null   float64 \n",
      " 27  approved_delta                4424 non-null   int64   \n",
      " 28  total_enrolled                4424 non-null   int64   \n",
      " 29  total_credited                4424 non-null   int64   \n",
      " 30  eval_completion_rate_1st      4424 non-null   float64 \n",
      " 31  eval_completion_rate_2nd      4424 non-null   float64 \n",
      " 32  eval_completion_delta         4424 non-null   float64 \n",
      "dtypes: category(9), float64(13), int64(11)\n",
      "memory usage: 876.2 KB\n"
     ]
    }
   ],
   "source": [
    "stud_selected.info()"
   ]
  },
  {
   "cell_type": "code",
   "execution_count": 51,
   "id": "69dc19f7",
   "metadata": {},
   "outputs": [
    {
     "name": "stdout",
     "output_type": "stream",
     "text": [
      "Validation macro-F1: 0.726\n",
      "              precision    recall  f1-score   support\n",
      "\n",
      "           0       0.85      0.74      0.79       284\n",
      "           1       0.55      0.50      0.52       159\n",
      "           2       0.82      0.91      0.86       442\n",
      "\n",
      "    accuracy                           0.78       885\n",
      "   macro avg       0.74      0.72      0.73       885\n",
      "weighted avg       0.78      0.78      0.78       885\n",
      "\n"
     ]
    },
    {
     "name": "stderr",
     "output_type": "stream",
     "text": [
      "c:\\Users\\Martina\\anaconda3\\envs\\DMML\\Lib\\site-packages\\sklearn\\preprocessing\\_encoders.py:246: UserWarning: Found unknown categories in columns [1] during transform. These unknown categories will be encoded as all zeros\n",
      "  warnings.warn(\n",
      "c:\\Users\\Martina\\anaconda3\\envs\\DMML\\Lib\\site-packages\\sklearn\\preprocessing\\_encoders.py:246: UserWarning: Found unknown categories in columns [1] during transform. These unknown categories will be encoded as all zeros\n",
      "  warnings.warn(\n"
     ]
    },
    {
     "name": "stdout",
     "output_type": "stream",
     "text": [
      "5-fold CV macro-F1: 0.719 ± 0.022\n"
     ]
    }
   ],
   "source": [
    "# ---------------------------------------------------------------------\n",
    "# 0) Imports\n",
    "# ---------------------------------------------------------------------\n",
    "import numpy as np\n",
    "import pandas as pd\n",
    "\n",
    "from sklearn.model_selection import train_test_split, StratifiedKFold, cross_val_score\n",
    "from sklearn.compose import ColumnTransformer\n",
    "from sklearn.pipeline import Pipeline\n",
    "from sklearn.preprocessing import OneHotEncoder\n",
    "from category_encoders.target_encoder import TargetEncoder          # pip install category_encoders\n",
    "from sklearn.ensemble import RandomForestClassifier\n",
    "from sklearn.metrics import f1_score, classification_report\n",
    "\n",
    "# ---------------------------------------------------------------------\n",
    "# 1) Prepare X and y  (raw dataframe → split)\n",
    "X = stud_selected.drop(columns='Target_encoded')               # raw, **un-encoded**\n",
    "y = stud_selected[\"Target_encoded\"]         # three classes (e.g. 0,1,2 or strings)\n",
    "\n",
    "# Make sure y is an integer array (if it's text, map to ints once)\n",
    "if y.dtype == \"object\":\n",
    "    y = y.map({c: i for i, c in enumerate(y.unique())})\n",
    "\n",
    "train_X, val_X, train_y, val_y = train_test_split(\n",
    "    X, y, test_size=0.20, random_state=1, stratify=y            # stratify keeps class balance\n",
    ")\n",
    "\n",
    "# ---------------------------------------------------------------------\n",
    "# 2) Pre-processing blocks\n",
    "# ---------------------------------------------------------------------\n",
    "onehot_cols = [\"Marital_status\", \"Application_mode\", \"Course\"]   # low-cardinality\n",
    "target_cols = [\"Previous_qualification\", \"Mother_occupation\",\n",
    "               \"Father_qualification\", \"Mother_qualification\",\n",
    "               \"Father_occupation\"]                              # high-cardinality\n",
    "\n",
    "num_cols = X.select_dtypes(exclude=[\"object\", \"category\"]).columns.tolist()\n",
    "\n",
    "preprocess = ColumnTransformer([\n",
    "    (\"oh\", OneHotEncoder(handle_unknown=\"ignore\", drop=\"if_binary\"), onehot_cols),\n",
    "    (\"te\", TargetEncoder(cols=target_cols, smoothing=5.0),           target_cols),\n",
    "    (\"num\", \"passthrough\",                                           num_cols)\n",
    "])\n",
    "\n",
    "# ---------------------------------------------------------------------\n",
    "# 3) Random-Forest classifier\n",
    "# ---------------------------------------------------------------------\n",
    "clf = RandomForestClassifier(\n",
    "    n_estimators=400,\n",
    "    max_depth=None,\n",
    "    min_samples_leaf=2,\n",
    "    class_weight=\"balanced\",        # handles slight class imbalance\n",
    "    n_jobs=-1,\n",
    "    random_state=1\n",
    ")\n",
    "\n",
    "pipe = Pipeline([\n",
    "    (\"prep\", preprocess),\n",
    "    (\"rf\",   clf)\n",
    "])\n",
    "\n",
    "# ---------------------------------------------------------------------\n",
    "# 4) Fit on training data\n",
    "# ---------------------------------------------------------------------\n",
    "pipe.fit(train_X, train_y)\n",
    "\n",
    "# ---------------------------------------------------------------------\n",
    "# 5) Validation on held-out 20 %\n",
    "# ---------------------------------------------------------------------\n",
    "val_pred = pipe.predict(val_X)\n",
    "macro_f1 = f1_score(val_y, val_pred, average=\"macro\")\n",
    "\n",
    "print(f\"Validation macro-F1: {macro_f1:.3f}\")\n",
    "print(classification_report(val_y, val_pred))\n",
    "\n",
    "# ---------------------------------------------------------------------\n",
    "# 6) (Optional) Five-fold stratified CV for a more stable estimate\n",
    "# ---------------------------------------------------------------------\n",
    "cv = StratifiedKFold(n_splits=5, shuffle=True, random_state=1)\n",
    "cv_scores = cross_val_score(pipe, X, y, cv=cv, scoring=\"f1_macro\")\n",
    "print(f\"5-fold CV macro-F1: {cv_scores.mean():.3f} ± {cv_scores.std():.3f}\")\n"
   ]
  }
 ],
 "metadata": {
  "kernelspec": {
   "display_name": "DMML",
   "language": "python",
   "name": "python3"
  },
  "language_info": {
   "codemirror_mode": {
    "name": "ipython",
    "version": 3
   },
   "file_extension": ".py",
   "mimetype": "text/x-python",
   "name": "python",
   "nbconvert_exporter": "python",
   "pygments_lexer": "ipython3",
   "version": "3.11.9"
  }
 },
 "nbformat": 4,
 "nbformat_minor": 5
}
